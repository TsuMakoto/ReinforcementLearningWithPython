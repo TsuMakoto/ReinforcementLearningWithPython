{
 "cells": [
  {
   "cell_type": "code",
   "execution_count": 1,
   "metadata": {},
   "outputs": [
    {
     "name": "stderr",
     "output_type": "stream",
     "text": [
      "┌ Info: Recompiling stale cache file /opt/julia/compiled/v1.2/Section03/gyQK1.ji for Section03 [0c5cfa60-15c1-41a8-b748-8afc4066c575]\n",
      "└ @ Base loading.jl:1240\n",
      "┌ Info: Precompiling Plots [91a5bcdd-55d7-5caf-9e0b-520d859cae80]\n",
      "└ @ Base loading.jl:1242\n"
     ]
    },
    {
     "data": {
      "text/plain": [
       "Animation(\"/tmp/jl_5XNwY4\", String[])"
      ]
     },
     "execution_count": 1,
     "metadata": {},
     "output_type": "execute_result"
    }
   ],
   "source": [
    "using Section03\n",
    "using PyCall\n",
    "using Plots\n",
    "pd = pyimport(\"pandas\")\n",
    "np = pyimport(\"numpy\")\n",
    "anim = Animation()"
   ]
  },
  {
   "cell_type": "code",
   "execution_count": 2,
   "metadata": {},
   "outputs": [
    {
     "name": "stderr",
     "output_type": "stream",
     "text": [
      "WARNING: both Plots and PyPlot export \"plot\"; uses of it in module Main must be qualified\n"
     ]
    },
    {
     "ename": "UndefVarError",
     "evalue": "UndefVarError: plot not defined",
     "output_type": "error",
     "traceback": [
      "UndefVarError: plot not defined",
      "",
      "Stacktrace:",
      " [1] (::getfield(Main, Symbol(\"##7#8\")))(::Array{Float64,1}) at ./In[2]:17",
      " [2] iterate at ./generator.jl:47 [inlined]",
      " [3] _collect(::Array{Array{Float64,1},1}, ::Base.Generator{Array{Array{Float64,1},1},getfield(Main, Symbol(\"##7#8\"))}, ::Base.EltypeUnknown, ::Base.HasShape{1}) at ./array.jl:619",
      " [4] collect_similar(::Array{Array{Float64,1},1}, ::Base.Generator{Array{Array{Float64,1},1},getfield(Main, Symbol(\"##7#8\"))}) at ./array.jl:548",
      " [5] map(::Function, ::Array{Array{Float64,1},1}) at ./abstractarray.jl:2073",
      " [6] top-level scope at In[2]:17"
     ]
    }
   ],
   "source": [
    "probs = [0.1, 0.5, 0.1, 0.9, 0.1]\n",
    "ϵ_list = [0.0, 0.1, 0.2, 0.5, 0.8]\n",
    "game_steps = 10:10:310\n",
    "result = map(\n",
    "             ϵ -> map(\n",
    "                      s -> np.mean(\n",
    "                                   Section03.play(\n",
    "                                                  Agent(s, 0, probs, ϵ)\n",
    "                                                 )\n",
    "                                  ),\n",
    "                      game_steps\n",
    "                     ),\n",
    "             ϵ_list\n",
    "            )\n",
    "\n",
    "pd.DataFrame(result)\n",
    "map(r -> plot(game_steps, r), result)"
   ]
  }
 ],
 "metadata": {
  "kernelspec": {
   "display_name": "Julia 1.2.0",
   "language": "julia",
   "name": "julia-1.2"
  },
  "language_info": {
   "file_extension": ".jl",
   "mimetype": "application/julia",
   "name": "julia",
   "version": "1.2.0"
  }
 },
 "nbformat": 4,
 "nbformat_minor": 4
}
